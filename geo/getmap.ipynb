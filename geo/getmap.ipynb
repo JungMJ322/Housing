{
 "cells": [
  {
   "cell_type": "code",
   "execution_count": 95,
   "id": "e365ef70",
   "metadata": {},
   "outputs": [],
   "source": [
    "import folium\n",
    "import json\n",
    "\n",
    "center = [36.38, 127.51]\n",
    "m = folium.Map(location=center, \n",
    "               tiles='cartodbpositron',\n",
    "               zoom_start=7)\n",
    "m2 =folium.Map(location=center, \n",
    "               tiles='cartodbpositron',\n",
    "               zoom_start=7)\n",
    "\n",
    "\n",
    "geoSido='/Users/sol/Downloads/sido.json'\n",
    "geoSigun='/Users/sol/Downloads/sigun.json'"
   ]
  },
  {
   "cell_type": "code",
   "execution_count": 61,
   "id": "23ccdcc7",
   "metadata": {},
   "outputs": [
    {
     "data": {
      "text/plain": [
       "'\\n{\"type\": \"FeatureCollection\", \\n \"features\": [{\"type\": \"Feature\", \\n               \"geometry\": {\"type\": \"Polygon\", \\n                            \"coordinates\": [[[127.12448814562448, 37.466643920515054],...,[...]]]},\\n               \"properties\": {\"CTPRVN_CD\": \"42\",\\n                              \"CTP_ENG_NM\": \"Gangwon-do\", \\n                              \"CTP_KOR_NM\": \"강원도\"}}, \\n              {\"type\": \"Feature\", \\n               \"geometry\": {\"type\": \"Polygon\", \\n                            \"coordinates\": [[[128.21206584190315, 37.24537667957222],...,[...]]]},\\n                \"properties\": {\"CTPRVN_CD\": \"11\", \\n                               \"CTP_ENG_NM\": \"Seoul\", \\n                               \"CTP_KOR_NM\": \"서울특별시\"}},\\n              {\"type\": \"Feature\", \\n              \"geometry\": {\"type\": \"MultiPolygon\", \\n                          \"coordinates\": [[[[129.0043975590262, 35.082252510547285],...,[...]]]]},\\n'"
      ]
     },
     "execution_count": 61,
     "metadata": {},
     "output_type": "execute_result"
    }
   ],
   "source": [
    "with open(f'{geoSido}', 'r') as f:\n",
    "\n",
    "    json_data = json.load(f)\n",
    "\n",
    "#print(json.dumps(json_data) )\n",
    "getlist = json_data[\"features\"]\n",
    "\n",
    "'''\n",
    "{\"type\": \"FeatureCollection\", \n",
    " \"features\": [{\"type\": \"Feature\", \n",
    "               \"geometry\": {\"type\": \"Polygon\", \n",
    "                            \"coordinates\": [[[127.12448814562448, 37.466643920515054],...,[...]]]},\n",
    "               \"properties\": {\"CTPRVN_CD\": \"42\",\n",
    "                              \"CTP_ENG_NM\": \"Gangwon-do\", \n",
    "                              \"CTP_KOR_NM\": \"\\uac15\\uc6d0\\ub3c4\"}}, \n",
    "              {\"type\": \"Feature\", \n",
    "               \"geometry\": {\"type\": \"Polygon\", \n",
    "                            \"coordinates\": [[[128.21206584190315, 37.24537667957222],...,[...]]]},\n",
    "                \"properties\": {\"CTPRVN_CD\": \"11\", \n",
    "                               \"CTP_ENG_NM\": \"Seoul\", \n",
    "                               \"CTP_KOR_NM\": \"\\uc11c\\uc6b8\\ud2b9\\ubcc4\\uc2dc\"}},\n",
    "              {\"type\": \"Feature\", \n",
    "              \"geometry\": {\"type\": \"MultiPolygon\", \n",
    "                          \"coordinates\": [[[[129.0043975590262, 35.082252510547285],...,[...]]]]},\n",
    "'''\n",
    "            "
   ]
  },
  {
   "cell_type": "code",
   "execution_count": 13,
   "id": "cc037a2a",
   "metadata": {
    "scrolled": true
   },
   "outputs": [
    {
     "name": "stdout",
     "output_type": "stream",
     "text": [
      "Busan\n"
     ]
    }
   ],
   "source": [
    "print(getlist[1][\"properties\"][\"CTP_ENG_NM\"])\n",
    "#feature[\"properties\"][\"CTP_ENG_NM\"]"
   ]
  },
  {
   "cell_type": "code",
   "execution_count": 16,
   "id": "21f77896",
   "metadata": {},
   "outputs": [
    {
     "name": "stdout",
     "output_type": "stream",
     "text": [
      "17\n"
     ]
    }
   ],
   "source": [
    "print(len(getlist))"
   ]
  },
  {
   "cell_type": "code",
   "execution_count": 19,
   "id": "d2b73c91",
   "metadata": {},
   "outputs": [],
   "source": [
    "\n",
    "fname_list=[]\n",
    "for feature in getlist:\n",
    "    fname_list.append(feature[\"properties\"][\"CTP_ENG_NM\"])"
   ]
  },
  {
   "cell_type": "code",
   "execution_count": 96,
   "id": "71b6ad51",
   "metadata": {},
   "outputs": [],
   "source": [
    "\n",
    "style ={'fillColor': 'green',\n",
    "        'weight': 2,\n",
    "        'opacity': 1,\n",
    "        'color': 'black',  #Outline color\n",
    "        'fillOpacity': 0}\n",
    "for feature in getlist: \n",
    "    folium.GeoJson(feature, tooltip =\"<b>\"+feature[\"properties\"][\"CTP_ENG_NM\"]+\"</b>\",style_function=lambda x : style, zoom_on_click=True ).add_to(m)\n",
    "    \n",
    "\n",
    "m.save('sido.html')"
   ]
  },
  {
   "cell_type": "code",
   "execution_count": 54,
   "id": "477c93a8",
   "metadata": {},
   "outputs": [],
   "source": [
    "with open(f'{geoSigun}', 'r') as f:\n",
    "\n",
    "    json_data = json.load(f)\n",
    "\n",
    "getlist = json_data[\"features\"]\n",
    "\n",
    "for feature in getlist: \n",
    "    folium.GeoJson(feature, tooltip =\"<b>\"+feature[\"properties\"][\"SIG_ENG_NM\"]+\"</b>\", zoom_on_click=True).add_to(m2)\n",
    "    \n",
    "\n",
    "m2.save('sigun.html')\n"
   ]
  },
  {
   "cell_type": "code",
   "execution_count": null,
   "id": "cb013a79",
   "metadata": {},
   "outputs": [],
   "source": []
  }
 ],
 "metadata": {
  "kernelspec": {
   "display_name": "Python 3.9.7 ('vproject')",
   "language": "python",
   "name": "python397jvsc74a57bd06b9d0e30e5ef87243c53716450f51d37bffb2f9d89ec7542c96d8e4142f57e5f"
  },
  "language_info": {
   "codemirror_mode": {
    "name": "ipython",
    "version": 3
   },
   "file_extension": ".py",
   "mimetype": "text/x-python",
   "name": "python",
   "nbconvert_exporter": "python",
   "pygments_lexer": "ipython3",
   "version": "3.9.7"
  }
 },
 "nbformat": 4,
 "nbformat_minor": 5
}
